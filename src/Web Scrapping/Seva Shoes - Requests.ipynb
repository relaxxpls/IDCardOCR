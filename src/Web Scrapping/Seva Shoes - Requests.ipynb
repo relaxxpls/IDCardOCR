{
 "cells": [
  {
   "cell_type": "markdown",
   "id": "c4352279-7d37-4cd2-b57b-1dfcd88fcb2a",
   "metadata": {},
   "source": [
    "References: https://www.youtube.com/watch?v=wMf7LJn0k4U"
   ]
  },
  {
   "cell_type": "code",
   "execution_count": 39,
   "id": "9b35ab88-c200-48cb-b021-2178a2e170d5",
   "metadata": {},
   "outputs": [],
   "source": [
    "import hashlib\n",
    "import requests\n",
    "from bs4 import BeautifulSoup"
   ]
  },
  {
   "cell_type": "code",
   "execution_count": 40,
   "id": "443a2134-a610-4975-af36-5652ed31d4c7",
   "metadata": {},
   "outputs": [],
   "source": [
    "# url = \"http://webcache.googleusercontent.com/search?q=cache:www.naukri.com/jobs-in-andhra-pradesh\"\n",
    "# r = requests.get(url, headers=header)\n",
    "\n",
    "url = 'https://sevashoes.com/en/login'\n",
    "\n",
    "username = 'hifejej495@labebx.com'\n",
    "password = 'password'"
   ]
  },
  {
   "cell_type": "code",
   "execution_count": 54,
   "id": "aea9709d-26fe-469f-8aef-382b2bec945b",
   "metadata": {},
   "outputs": [],
   "source": [
    "def get_md5(s):\n",
    "    return hashlib.md5(bytes(s, encoding='utf8')).hexdigest()"
   ]
  },
  {
   "cell_type": "code",
   "execution_count": 61,
   "id": "78c26c9b-b314-4700-a7dc-c4f6abf0f759",
   "metadata": {},
   "outputs": [],
   "source": [
    "with requests.session() as session:\n",
    "    response = session.get(url)\n",
    "    soup = BeautifulSoup(response.text, 'lxml')\n",
    "    challenge = soup.find('input', id='challenge').get('value')\n",
    "    result = get_md5(username + ':' + get_md5(password) + ':' + challenge)\n",
    "    \n",
    "    data = {'username': username, 'password': '', 'challenge': '', 'response': result}\n",
    "    \n",
    "    response = session.post(url, data=data)"
   ]
  },
  {
   "cell_type": "code",
   "execution_count": null,
   "id": "5b05e67a-97cf-4af8-86e5-fc273337b337",
   "metadata": {},
   "outputs": [],
   "source": []
  }
 ],
 "metadata": {
  "kernelspec": {
   "display_name": "Python 3",
   "language": "python",
   "name": "python3"
  },
  "language_info": {
   "codemirror_mode": {
    "name": "ipython",
    "version": 3
   },
   "file_extension": ".py",
   "mimetype": "text/x-python",
   "name": "python",
   "nbconvert_exporter": "python",
   "pygments_lexer": "ipython3",
   "version": "3.9.4"
  }
 },
 "nbformat": 4,
 "nbformat_minor": 5
}
