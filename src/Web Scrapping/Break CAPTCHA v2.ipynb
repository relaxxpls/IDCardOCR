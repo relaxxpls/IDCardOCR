{
 "cells": [
  {
   "cell_type": "markdown",
   "id": "57fa02c4-d1d7-4945-a54e-f2fefd01c504",
   "metadata": {},
   "source": [
    "# Break Google CAPTCHA v2"
   ]
  },
  {
   "cell_type": "code",
   "execution_count": 21,
   "id": "0a059527-85cd-4067-9173-b3e39a25a660",
   "metadata": {},
   "outputs": [],
   "source": [
    "import time\n",
    "import random\n",
    "from selenium import webdriver"
   ]
  },
  {
   "cell_type": "code",
   "execution_count": 22,
   "id": "33982303-e9ed-460e-8016-09ef0c2d9b47",
   "metadata": {},
   "outputs": [],
   "source": [
    "url = 'https://www.google.com/recaptcha/api2/demo'"
   ]
  },
  {
   "cell_type": "code",
   "execution_count": 23,
   "id": "c12d9dbe-623d-4977-b9a4-dbb8a16bfd93",
   "metadata": {},
   "outputs": [],
   "source": [
    "def wait(t=1):\n",
    "    time.sleep(random.randint(2*t, 3*t))"
   ]
  },
  {
   "cell_type": "code",
   "execution_count": 25,
   "id": "c23cb38c-ab94-47a3-a8b4-5a4c0688f20b",
   "metadata": {},
   "outputs": [],
   "source": [
    "driver = webdriver.Chrome()\n",
    "driver.get(url)\n",
    "\n",
    "wait()\n",
    "\n",
    "# Enter CAPTCHA frame\n",
    "iframe = driver.find_element_by_xpath(\"//iframe[@title='reCAPTCHA']\")\n",
    "driver.switch_to.frame(iframe);\n",
    "\n",
    "# Click checkbox to activate captcha\n",
    "driver.find_element_by_id('recaptcha-anchor').click()\n",
    "    \n",
    "# Enter popup frame\n",
    "driver.switch_to.default_content()\n",
    "iframe = driver.find_element_by_xpath(\"//iframe[@title='recaptcha challenge']\")\n",
    "driver.switch_to.frame(iframe);\n",
    "wait()\n",
    "\n",
    "# Click audio test button\n",
    "driver.find_element_by_id('recaptcha-audio-button').click()\n",
    "\n",
    "wait(2)\n",
    "driver.close()"
   ]
  },
  {
   "cell_type": "code",
   "execution_count": null,
   "id": "d7889f5f-8e8f-4c85-84df-1009cb07ae2c",
   "metadata": {},
   "outputs": [],
   "source": []
  }
 ],
 "metadata": {
  "kernelspec": {
   "display_name": "Python 3",
   "language": "python",
   "name": "python3"
  },
  "language_info": {
   "codemirror_mode": {
    "name": "ipython",
    "version": 3
   },
   "file_extension": ".py",
   "mimetype": "text/x-python",
   "name": "python",
   "nbconvert_exporter": "python",
   "pygments_lexer": "ipython3",
   "version": "3.9.4"
  }
 },
 "nbformat": 4,
 "nbformat_minor": 5
}
